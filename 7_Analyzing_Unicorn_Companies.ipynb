{
  "cells": [
    {
      "cell_type": "markdown",
      "metadata": {
        "id": "view-in-github",
        "colab_type": "text"
      },
      "source": [
        "<a href=\"https://colab.research.google.com/github/Bor-Cherng/Bor-Cherng-SQL-Python-Projects/blob/main/7_Analyzing_Unicorn_Companies.ipynb\" target=\"_parent\"><img src=\"https://colab.research.google.com/assets/colab-badge.svg\" alt=\"Open In Colab\"/></a>"
      ]
    },
    {
      "source": [
        "![calculator.jpg](data:image/jpeg;base64,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)\n",
        "\n",
        "Did you know that the average return from investing in stocks is [10% per year](https://www.nerdwallet.com/article/investing/average-stock-market-return) (not accounting for inflation)? But who wants to be average?!\n",
        "\n",
        "You have been asked to support an investment firm by analyzing trends in high-growth companies. They are interested in understanding which industries are producing the highest valuations and the rate at which new high-value companies are emerging. Providing them with this information gives them a competitive insight as to industry trends and how they should structure their portfolio looking forward.\n",
        "\n",
        "You have been given access to their `unicorns` database, which contains the following tables:\n",
        "\n",
        "## dates\n",
        "| Column       | Description                                  |\n",
        "|------------- |--------------------------------------------- |\n",
        "| `company_id`   | A unique ID for the company.                 |\n",
        "| `date_joined` | The date that the company became a unicorn.  |\n",
        "| `year_founded` | The year that the company was founded.       |\n",
        "\n",
        "## funding\n",
        "| Column           | Description                                  |\n",
        "|----------------- |--------------------------------------------- |\n",
        "| `company_id`       | A unique ID for the company.                 |\n",
        "| `valuation`        | Company value in US dollars.                 |\n",
        "| `funding`          | The amount of funding raised in US dollars.  |\n",
        "| `select_investors` | A list of key investors in the company.      |\n",
        "\n",
        "## industries\n",
        "| Column       | Description                                  |\n",
        "|------------- |--------------------------------------------- |\n",
        "| `company_id`   | A unique ID for the company.                 |\n",
        "| `industry`     | The industry that the company operates in.   |\n",
        "\n",
        "## companies\n",
        "| Column       | Description                                       |\n",
        "|------------- |-------------------------------------------------- |\n",
        "| `company_id`   | A unique ID for the company.                      |\n",
        "| `company`      | The name of the company.                          |\n",
        "| `city`         | The city where the company is headquartered.      |\n",
        "| `country`      | The country where the company is headquartered.   |\n",
        "| `continent`    | The continent where the company is headquartered. |\n"
      ],
      "metadata": {
        "id": "33dda299-ad0e-4262-b285-7d1297a3ba66"
      },
      "id": "33dda299-ad0e-4262-b285-7d1297a3ba66",
      "cell_type": "markdown"
    },
    {
      "source": [
        "# The output\n",
        "\n",
        "Your query should return a table in the following format:\n",
        "| industry  | year | num\\_unicorns       | average\\_valuation\\_billions |\n",
        "| --------- | ---- | ------------------- | ---------------------------- |\n",
        "| industry1 | 2021 |        ---          |             ---              |\n",
        "| industry2 | 2020 |        ---          |             ---              |\n",
        "| industry3 | 2019 |        ---          |             ---              |\n",
        "| industry1 | 2021 |        ---          |             ---              |\n",
        "| industry2 | 2020 |        ---          |             ---              |\n",
        "| industry3 | 2019 |        ---          |             ---              |\n",
        "| industry1 | 2021 |        ---          |             ---              |\n",
        "| industry2 | 2020 |        ---          |             ---              |\n",
        "| industry3 | 2019 |        ---          |             ---              |\n",
        "\n",
        "Where `industry1`, `industry2`, and `industry3` are the three top-performing industries."
      ],
      "metadata": {
        "id": "48a34f18-9207-4a1d-9c91-0b1a4aec770d"
      },
      "id": "48a34f18-9207-4a1d-9c91-0b1a4aec770d",
      "cell_type": "markdown"
    },
    {
      "source": [
        "SELECT i.industry, TO_CHAR(d.date_joined, 'YYYY') AS year, COUNT(c.company) AS num_unicorns, ROUND(AVG(f.valuation)/1000000000, 2) AS average_valuation_billions\n",
        "FROM dates AS d\n",
        "INNER JOIN funding AS f\n",
        "ON d.company_id = f.company_id\n",
        "INNER JOIN industries AS i\n",
        "ON d.company_id = i.company_id\n",
        "INNER JOIN companies AS c\n",
        "ON d.company_id = c.company_id\n",
        "WHERE i.industry = 'Fintech'\n",
        "OR i.industry = 'Internet software & services'\n",
        "OR i.industry = 'E-commerce & direct-to-consumer'\n",
        "GROUP BY industry, year\n",
        "HAVING TO_CHAR(d.date_joined, 'YYYY') = '2019'\n",
        "OR TO_CHAR(d.date_joined, 'YYYY') = '2020'\n",
        "OR TO_CHAR(d.date_joined, 'YYYY') = '2021'\n",
        "ORDER BY year DESC, num_unicorns DESC"
      ],
      "metadata": {
        "customType": "sql",
        "dataFrameVariableName": "df",
        "sqlCellMode": "dataFrame",
        "sqlSource": {
          "integrationId": "89e17161-a224-4a8a-846b-0adc0fe7a4b1",
          "type": "integration"
        },
        "executionCancelledAt": null,
        "executionTime": 948,
        "lastExecutedAt": 1718601671491,
        "lastExecutedByKernel": "8be766e1-7f49-48bc-9f74-45a016115f02",
        "lastScheduledRunId": null,
        "lastSuccessfullyExecutedCode": "SELECT i.industry, TO_CHAR(d.date_joined, 'YYYY') AS year, COUNT(c.company) AS num_unicorns, ROUND(AVG(f.valuation)/1000000000, 2) AS average_valuation_billions\nFROM dates AS d\nINNER JOIN funding AS f\nON d.company_id = f.company_id\nINNER JOIN industries AS i\nON d.company_id = i.company_id\nINNER JOIN companies AS c\nON d.company_id = c.company_id\nWHERE i.industry = 'Fintech'\nOR i.industry = 'Internet software & services'\nOR i.industry = 'E-commerce & direct-to-consumer'\nGROUP BY industry, year\nHAVING TO_CHAR(d.date_joined, 'YYYY') = '2019' \nOR TO_CHAR(d.date_joined, 'YYYY') = '2020'\nOR TO_CHAR(d.date_joined, 'YYYY') = '2021'\nORDER BY year DESC, num_unicorns DESC",
        "outputsMetadata": {
          "0": {
            "height": 296,
            "type": "dataFrame"
          }
        },
        "id": "8d7d8de9-5da9-4b35-bc60-9f0502eb56d6",
        "outputId": "20b7397a-aaac-45fd-c242-8852cd46c6c8"
      },
      "id": "8d7d8de9-5da9-4b35-bc60-9f0502eb56d6",
      "cell_type": "code",
      "execution_count": null,
      "outputs": [
        {
          "output_type": "execute_result",
          "data": {
            "application/com.datacamp.data-table.v2+json": {
              "table": {
                "schema": {
                  "fields": [
                    {
                      "name": "index",
                      "type": "integer"
                    },
                    {
                      "name": "industry",
                      "type": "string"
                    },
                    {
                      "name": "year",
                      "type": "integer"
                    },
                    {
                      "name": "num_unicorns",
                      "type": "integer"
                    },
                    {
                      "name": "average_valuation_billions",
                      "type": "number"
                    }
                  ],
                  "primaryKey": [
                    "index"
                  ],
                  "pandas_version": "1.4.0"
                },
                "data": {
                  "index": [
                    0,
                    1,
                    2,
                    3,
                    4,
                    5,
                    6,
                    7,
                    8
                  ],
                  "industry": [
                    "Fintech",
                    "Internet software & services",
                    "E-commerce & direct-to-consumer",
                    "Internet software & services",
                    "E-commerce & direct-to-consumer",
                    "Fintech",
                    "Fintech",
                    "Internet software & services",
                    "E-commerce & direct-to-consumer"
                  ],
                  "year": [
                    2021,
                    2021,
                    2021,
                    2020,
                    2020,
                    2020,
                    2019,
                    2019,
                    2019
                  ],
                  "num_unicorns": [
                    138,
                    119,
                    47,
                    20,
                    16,
                    15,
                    20,
                    13,
                    12
                  ],
                  "average_valuation_billions": [
                    2.75,
                    2.15,
                    2.47,
                    4.35,
                    4,
                    4.33,
                    6.8,
                    4.23,
                    2.58
                  ]
                }
              },
              "total_rows": 9,
              "truncation_type": null
            },
            "text/plain": "                          industry  ...  average_valuation_billions\n0                          Fintech  ...                        2.75\n1     Internet software & services  ...                        2.15\n2  E-commerce & direct-to-consumer  ...                        2.47\n3     Internet software & services  ...                        4.35\n4  E-commerce & direct-to-consumer  ...                        4.00\n5                          Fintech  ...                        4.33\n6                          Fintech  ...                        6.80\n7     Internet software & services  ...                        4.23\n8  E-commerce & direct-to-consumer  ...                        2.58\n\n[9 rows x 4 columns]",
            "text/html": "<div>\n<style scoped>\n    .dataframe tbody tr th:only-of-type {\n        vertical-align: middle;\n    }\n\n    .dataframe tbody tr th {\n        vertical-align: top;\n    }\n\n    .dataframe thead th {\n        text-align: right;\n    }\n</style>\n<table border=\"1\" class=\"dataframe\">\n  <thead>\n    <tr style=\"text-align: right;\">\n      <th></th>\n      <th>industry</th>\n      <th>year</th>\n      <th>num_unicorns</th>\n      <th>average_valuation_billions</th>\n    </tr>\n  </thead>\n  <tbody>\n    <tr>\n      <th>0</th>\n      <td>Fintech</td>\n      <td>2021</td>\n      <td>138</td>\n      <td>2.75</td>\n    </tr>\n    <tr>\n      <th>1</th>\n      <td>Internet software &amp; services</td>\n      <td>2021</td>\n      <td>119</td>\n      <td>2.15</td>\n    </tr>\n    <tr>\n      <th>2</th>\n      <td>E-commerce &amp; direct-to-consumer</td>\n      <td>2021</td>\n      <td>47</td>\n      <td>2.47</td>\n    </tr>\n    <tr>\n      <th>3</th>\n      <td>Internet software &amp; services</td>\n      <td>2020</td>\n      <td>20</td>\n      <td>4.35</td>\n    </tr>\n    <tr>\n      <th>4</th>\n      <td>E-commerce &amp; direct-to-consumer</td>\n      <td>2020</td>\n      <td>16</td>\n      <td>4.00</td>\n    </tr>\n    <tr>\n      <th>5</th>\n      <td>Fintech</td>\n      <td>2020</td>\n      <td>15</td>\n      <td>4.33</td>\n    </tr>\n    <tr>\n      <th>6</th>\n      <td>Fintech</td>\n      <td>2019</td>\n      <td>20</td>\n      <td>6.80</td>\n    </tr>\n    <tr>\n      <th>7</th>\n      <td>Internet software &amp; services</td>\n      <td>2019</td>\n      <td>13</td>\n      <td>4.23</td>\n    </tr>\n    <tr>\n      <th>8</th>\n      <td>E-commerce &amp; direct-to-consumer</td>\n      <td>2019</td>\n      <td>12</td>\n      <td>2.58</td>\n    </tr>\n  </tbody>\n</table>\n</div>"
          },
          "metadata": {},
          "execution_count": 9,
          "@datacamp/metadata": {
            "executedQuery": "SELECT i.industry, TO_CHAR(d.date_joined, 'YYYY') AS year, COUNT(c.company) AS num_unicorns, ROUND(AVG(f.valuation)/1000000000, 2) AS average_valuation_billions\nFROM dates AS d\nINNER JOIN funding AS f\nON d.company_id = f.company_id\nINNER JOIN industries AS i\nON d.company_id = i.company_id\nINNER JOIN companies AS c\nON d.company_id = c.company_id\nWHERE i.industry = 'Fintech'\nOR i.industry = 'Internet software & services'\nOR i.industry = 'E-commerce & direct-to-consumer'\nGROUP BY industry, year\nHAVING TO_CHAR(d.date_joined, 'YYYY') = '2019' \nOR TO_CHAR(d.date_joined, 'YYYY') = '2020'\nOR TO_CHAR(d.date_joined, 'YYYY') = '2021'\nORDER BY year DESC, num_unicorns DESC",
            "executedQueryParameters": []
          }
        }
      ]
    },
    {
      "source": [
        "SELECT industry, COUNT(*) AS count\n",
        "FROM industries\n",
        "INNER JOIN dates\n",
        "ON industries.company_id = dates.company_id\n",
        "WHERE TO_CHAR(date_joined, 'YYYY') = '2019'\n",
        "OR TO_CHAR(date_joined, 'YYYY') = '2020'\n",
        "OR TO_CHAR(date_joined, 'YYYY') = '2021'\n",
        "GROUP BY industry\n",
        "ORDER BY count DESC"
      ],
      "metadata": {
        "customType": "sql",
        "dataFrameVariableName": "df1",
        "sqlCellMode": "dataFrame",
        "sqlSource": {
          "integrationId": "89e17161-a224-4a8a-846b-0adc0fe7a4b1",
          "type": "integration"
        },
        "executionCancelledAt": null,
        "executionTime": 727,
        "lastExecutedAt": 1718601672218,
        "lastExecutedByKernel": "8be766e1-7f49-48bc-9f74-45a016115f02",
        "lastScheduledRunId": null,
        "lastSuccessfullyExecutedCode": "SELECT industry, COUNT(*) AS count\nFROM industries\nINNER JOIN dates \nON industries.company_id = dates.company_id\nWHERE TO_CHAR(date_joined, 'YYYY') = '2019'\nOR TO_CHAR(date_joined, 'YYYY') = '2020'\nOR TO_CHAR(date_joined, 'YYYY') = '2021'\nGROUP BY industry\nORDER BY count DESC",
        "outputsMetadata": {
          "0": {
            "height": 321,
            "type": "dataFrame"
          }
        },
        "id": "e556ebc5-e61d-4157-9193-191b4c062820",
        "outputId": "b0663001-e0fa-4910-9e4b-ce0ce37bd4f4"
      },
      "cell_type": "code",
      "id": "e556ebc5-e61d-4157-9193-191b4c062820",
      "outputs": [
        {
          "output_type": "execute_result",
          "data": {
            "application/com.datacamp.data-table.v2+json": {
              "table": {
                "schema": {
                  "fields": [
                    {
                      "name": "index",
                      "type": "integer"
                    },
                    {
                      "name": "industry",
                      "type": "string"
                    },
                    {
                      "name": "count",
                      "type": "integer"
                    }
                  ],
                  "primaryKey": [
                    "index"
                  ],
                  "pandas_version": "1.4.0"
                },
                "data": {
                  "index": [
                    0,
                    1,
                    2,
                    3,
                    4,
                    5,
                    6,
                    7,
                    8,
                    9,
                    10,
                    11,
                    12,
                    13,
                    14
                  ],
                  "industry": [
                    "Fintech",
                    "Internet software & services",
                    "E-commerce & direct-to-consumer",
                    "Artificial intelligence",
                    "Health",
                    "Other",
                    "Cybersecurity",
                    "Supply chain, logistics, & delivery",
                    "Data management & analytics",
                    "Mobile & telecommunications",
                    "Edtech",
                    "Hardware",
                    "Auto & transportation",
                    "Consumer & retail",
                    "Travel"
                  ],
                  "count": [
                    173,
                    152,
                    75,
                    53,
                    52,
                    41,
                    38,
                    35,
                    31,
                    18,
                    17,
                    15,
                    15,
                    11,
                    6
                  ]
                }
              },
              "total_rows": 15,
              "truncation_type": null
            },
            "text/plain": "                               industry  count\n0                               Fintech    173\n1          Internet software & services    152\n2       E-commerce & direct-to-consumer     75\n3               Artificial intelligence     53\n4                                Health     52\n5                                 Other     41\n6                         Cybersecurity     38\n7   Supply chain, logistics, & delivery     35\n8           Data management & analytics     31\n9           Mobile & telecommunications     18\n10                               Edtech     17\n11                             Hardware     15\n12                Auto & transportation     15\n13                    Consumer & retail     11\n14                               Travel      6",
            "text/html": "<div>\n<style scoped>\n    .dataframe tbody tr th:only-of-type {\n        vertical-align: middle;\n    }\n\n    .dataframe tbody tr th {\n        vertical-align: top;\n    }\n\n    .dataframe thead th {\n        text-align: right;\n    }\n</style>\n<table border=\"1\" class=\"dataframe\">\n  <thead>\n    <tr style=\"text-align: right;\">\n      <th></th>\n      <th>industry</th>\n      <th>count</th>\n    </tr>\n  </thead>\n  <tbody>\n    <tr>\n      <th>0</th>\n      <td>Fintech</td>\n      <td>173</td>\n    </tr>\n    <tr>\n      <th>1</th>\n      <td>Internet software &amp; services</td>\n      <td>152</td>\n    </tr>\n    <tr>\n      <th>2</th>\n      <td>E-commerce &amp; direct-to-consumer</td>\n      <td>75</td>\n    </tr>\n    <tr>\n      <th>3</th>\n      <td>Artificial intelligence</td>\n      <td>53</td>\n    </tr>\n    <tr>\n      <th>4</th>\n      <td>Health</td>\n      <td>52</td>\n    </tr>\n    <tr>\n      <th>5</th>\n      <td>Other</td>\n      <td>41</td>\n    </tr>\n    <tr>\n      <th>6</th>\n      <td>Cybersecurity</td>\n      <td>38</td>\n    </tr>\n    <tr>\n      <th>7</th>\n      <td>Supply chain, logistics, &amp; delivery</td>\n      <td>35</td>\n    </tr>\n    <tr>\n      <th>8</th>\n      <td>Data management &amp; analytics</td>\n      <td>31</td>\n    </tr>\n    <tr>\n      <th>9</th>\n      <td>Mobile &amp; telecommunications</td>\n      <td>18</td>\n    </tr>\n    <tr>\n      <th>10</th>\n      <td>Edtech</td>\n      <td>17</td>\n    </tr>\n    <tr>\n      <th>11</th>\n      <td>Hardware</td>\n      <td>15</td>\n    </tr>\n    <tr>\n      <th>12</th>\n      <td>Auto &amp; transportation</td>\n      <td>15</td>\n    </tr>\n    <tr>\n      <th>13</th>\n      <td>Consumer &amp; retail</td>\n      <td>11</td>\n    </tr>\n    <tr>\n      <th>14</th>\n      <td>Travel</td>\n      <td>6</td>\n    </tr>\n  </tbody>\n</table>\n</div>"
          },
          "metadata": {},
          "execution_count": 10,
          "@datacamp/metadata": {
            "executedQuery": "SELECT industry, COUNT(*) AS count\nFROM industries\nINNER JOIN dates \nON industries.company_id = dates.company_id\nWHERE TO_CHAR(date_joined, 'YYYY') = '2019'\nOR TO_CHAR(date_joined, 'YYYY') = '2020'\nOR TO_CHAR(date_joined, 'YYYY') = '2021'\nGROUP BY industry\nORDER BY count DESC",
            "executedQueryParameters": []
          }
        }
      ],
      "execution_count": null
    },
    {
      "source": [
        "WITH RankedIndustries AS (\n",
        "    SELECT\n",
        "        i.industry,\n",
        "        TO_CHAR(d.date_joined, 'YYYY') AS year,\n",
        "        COUNT(c.company) AS num_unicorns,\n",
        "        ROUND(AVG(f.funding), 2) AS average_valuation_billions,\n",
        "        ROW_NUMBER() OVER (PARTITION BY TO_CHAR(d.date_joined, 'YYYY') ORDER BY COUNT(c.company) DESC) AS rank\n",
        "    FROM\n",
        "        dates AS d\n",
        "    INNER JOIN\n",
        "        funding AS f ON d.company_id = f.company_id\n",
        "    INNER JOIN\n",
        "        industries AS i ON d.company_id = i.company_id\n",
        "    INNER JOIN\n",
        "        companies AS c ON d.company_id = c.company_id\n",
        "    WHERE\n",
        "        i.industry IN ('Fintech', 'Internet software & services', 'E-commerce & direct-to-consumer')\n",
        "        AND TO_CHAR(d.date_joined, 'YYYY') IN ('2019', '2020', '2021')\n",
        "    GROUP BY\n",
        "        i.industry, TO_CHAR(d.date_joined, 'YYYY')\n",
        ")\n",
        "SELECT\n",
        "    industry,\n",
        "    year,\n",
        "    num_unicorns,\n",
        "    average_valuation_billions\n",
        "FROM\n",
        "    RankedIndustries\n",
        "WHERE\n",
        "    rank <= 3\n",
        "ORDER BY\n",
        "    year DESC, num_unicorns DESC;\n"
      ],
      "metadata": {
        "customType": "sql",
        "dataFrameVariableName": "df2",
        "sqlCellMode": "dataFrame",
        "sqlSource": {
          "integrationId": "89e17161-a224-4a8a-846b-0adc0fe7a4b1",
          "type": "integration"
        },
        "executionCancelledAt": null,
        "executionTime": 874,
        "lastExecutedAt": 1718601673092,
        "lastExecutedByKernel": "8be766e1-7f49-48bc-9f74-45a016115f02",
        "lastScheduledRunId": null,
        "lastSuccessfullyExecutedCode": "WITH RankedIndustries AS (\n    SELECT \n        i.industry, \n        TO_CHAR(d.date_joined, 'YYYY') AS year, \n        COUNT(c.company) AS num_unicorns, \n        ROUND(AVG(f.funding), 2) AS average_valuation_billions,\n        ROW_NUMBER() OVER (PARTITION BY TO_CHAR(d.date_joined, 'YYYY') ORDER BY COUNT(c.company) DESC) AS rank\n    FROM \n        dates AS d\n    INNER JOIN \n        funding AS f ON d.company_id = f.company_id\n    INNER JOIN \n        industries AS i ON d.company_id = i.company_id\n    INNER JOIN \n        companies AS c ON d.company_id = c.company_id\n    WHERE \n        i.industry IN ('Fintech', 'Internet software & services', 'E-commerce & direct-to-consumer')\n        AND TO_CHAR(d.date_joined, 'YYYY') IN ('2019', '2020', '2021')\n    GROUP BY \n        i.industry, TO_CHAR(d.date_joined, 'YYYY')\n)\nSELECT \n    industry, \n    year, \n    num_unicorns, \n    average_valuation_billions\nFROM \n    RankedIndustries\nWHERE \n    rank <= 3\nORDER BY \n    year DESC, num_unicorns DESC;\n",
        "outputsMetadata": {
          "0": {
            "height": 296,
            "type": "dataFrame"
          }
        },
        "id": "26a576c5-9f3c-45d8-8679-30df66a7a3ba",
        "outputId": "0cdb49cd-752b-4116-966e-85f22672b08b"
      },
      "cell_type": "code",
      "id": "26a576c5-9f3c-45d8-8679-30df66a7a3ba",
      "outputs": [
        {
          "output_type": "execute_result",
          "data": {
            "application/com.datacamp.data-table.v2+json": {
              "table": {
                "schema": {
                  "fields": [
                    {
                      "name": "index",
                      "type": "integer"
                    },
                    {
                      "name": "industry",
                      "type": "string"
                    },
                    {
                      "name": "year",
                      "type": "integer"
                    },
                    {
                      "name": "num_unicorns",
                      "type": "integer"
                    },
                    {
                      "name": "average_valuation_billions",
                      "type": "number"
                    }
                  ],
                  "primaryKey": [
                    "index"
                  ],
                  "pandas_version": "1.4.0"
                },
                "data": {
                  "index": [
                    0,
                    1,
                    2,
                    3,
                    4,
                    5,
                    6,
                    7,
                    8
                  ],
                  "industry": [
                    "Fintech",
                    "Internet software & services",
                    "E-commerce & direct-to-consumer",
                    "Internet software & services",
                    "E-commerce & direct-to-consumer",
                    "Fintech",
                    "Fintech",
                    "Internet software & services",
                    "E-commerce & direct-to-consumer"
                  ],
                  "year": [
                    2021,
                    2021,
                    2021,
                    2020,
                    2020,
                    2020,
                    2019,
                    2019,
                    2019
                  ],
                  "num_unicorns": [
                    138,
                    119,
                    47,
                    20,
                    16,
                    15,
                    20,
                    13,
                    12
                  ],
                  "average_valuation_billions": [
                    386659420.29,
                    309932773.11,
                    495531914.89,
                    433100000,
                    1084500000,
                    643266666.67,
                    754400000,
                    604461538.46,
                    566250000
                  ]
                }
              },
              "total_rows": 9,
              "truncation_type": null
            },
            "text/plain": "                          industry  ...  average_valuation_billions\n0                          Fintech  ...                3.866594e+08\n1     Internet software & services  ...                3.099328e+08\n2  E-commerce & direct-to-consumer  ...                4.955319e+08\n3     Internet software & services  ...                4.331000e+08\n4  E-commerce & direct-to-consumer  ...                1.084500e+09\n5                          Fintech  ...                6.432667e+08\n6                          Fintech  ...                7.544000e+08\n7     Internet software & services  ...                6.044615e+08\n8  E-commerce & direct-to-consumer  ...                5.662500e+08\n\n[9 rows x 4 columns]",
            "text/html": "<div>\n<style scoped>\n    .dataframe tbody tr th:only-of-type {\n        vertical-align: middle;\n    }\n\n    .dataframe tbody tr th {\n        vertical-align: top;\n    }\n\n    .dataframe thead th {\n        text-align: right;\n    }\n</style>\n<table border=\"1\" class=\"dataframe\">\n  <thead>\n    <tr style=\"text-align: right;\">\n      <th></th>\n      <th>industry</th>\n      <th>year</th>\n      <th>num_unicorns</th>\n      <th>average_valuation_billions</th>\n    </tr>\n  </thead>\n  <tbody>\n    <tr>\n      <th>0</th>\n      <td>Fintech</td>\n      <td>2021</td>\n      <td>138</td>\n      <td>3.866594e+08</td>\n    </tr>\n    <tr>\n      <th>1</th>\n      <td>Internet software &amp; services</td>\n      <td>2021</td>\n      <td>119</td>\n      <td>3.099328e+08</td>\n    </tr>\n    <tr>\n      <th>2</th>\n      <td>E-commerce &amp; direct-to-consumer</td>\n      <td>2021</td>\n      <td>47</td>\n      <td>4.955319e+08</td>\n    </tr>\n    <tr>\n      <th>3</th>\n      <td>Internet software &amp; services</td>\n      <td>2020</td>\n      <td>20</td>\n      <td>4.331000e+08</td>\n    </tr>\n    <tr>\n      <th>4</th>\n      <td>E-commerce &amp; direct-to-consumer</td>\n      <td>2020</td>\n      <td>16</td>\n      <td>1.084500e+09</td>\n    </tr>\n    <tr>\n      <th>5</th>\n      <td>Fintech</td>\n      <td>2020</td>\n      <td>15</td>\n      <td>6.432667e+08</td>\n    </tr>\n    <tr>\n      <th>6</th>\n      <td>Fintech</td>\n      <td>2019</td>\n      <td>20</td>\n      <td>7.544000e+08</td>\n    </tr>\n    <tr>\n      <th>7</th>\n      <td>Internet software &amp; services</td>\n      <td>2019</td>\n      <td>13</td>\n      <td>6.044615e+08</td>\n    </tr>\n    <tr>\n      <th>8</th>\n      <td>E-commerce &amp; direct-to-consumer</td>\n      <td>2019</td>\n      <td>12</td>\n      <td>5.662500e+08</td>\n    </tr>\n  </tbody>\n</table>\n</div>"
          },
          "metadata": {},
          "execution_count": 11,
          "@datacamp/metadata": {
            "executedQuery": "WITH RankedIndustries AS (\n    SELECT \n        i.industry, \n        TO_CHAR(d.date_joined, 'YYYY') AS year, \n        COUNT(c.company) AS num_unicorns, \n        ROUND(AVG(f.funding), 2) AS average_valuation_billions,\n        ROW_NUMBER() OVER (PARTITION BY TO_CHAR(d.date_joined, 'YYYY') ORDER BY COUNT(c.company) DESC) AS rank\n    FROM \n        dates AS d\n    INNER JOIN \n        funding AS f ON d.company_id = f.company_id\n    INNER JOIN \n        industries AS i ON d.company_id = i.company_id\n    INNER JOIN \n        companies AS c ON d.company_id = c.company_id\n    WHERE \n        i.industry IN ('Fintech', 'Internet software & services', 'E-commerce & direct-to-consumer')\n        AND TO_CHAR(d.date_joined, 'YYYY') IN ('2019', '2020', '2021')\n    GROUP BY \n        i.industry, TO_CHAR(d.date_joined, 'YYYY')\n)\nSELECT \n    industry, \n    year, \n    num_unicorns, \n    average_valuation_billions\nFROM \n    RankedIndustries\nWHERE \n    rank <= 3\nORDER BY \n    year DESC, num_unicorns DESC;",
            "executedQueryParameters": []
          }
        }
      ],
      "execution_count": null
    },
    {
      "source": [
        "WITH RankedIndustries AS (\n",
        "    SELECT\n",
        "        i.industry,\n",
        "        TO_CHAR(d.date_joined, 'YYYY') AS year,\n",
        "        COUNT(c.company) AS num_unicorns,\n",
        "        ROUND(AVG(f.funding), 2) AS average_valuation_billions,\n",
        "        ROW_NUMBER() OVER (PARTITION BY TO_CHAR(d.date_joined, 'YYYY') ORDER BY COUNT(c.company) DESC) AS rank\n",
        "    FROM\n",
        "        dates AS d\n",
        "    INNER JOIN\n",
        "        funding AS f ON d.company_id = f.company_id\n",
        "    INNER JOIN\n",
        "        industries AS i ON d.company_id = i.company_id\n",
        "    INNER JOIN\n",
        "        companies AS c ON d.company_id = c.company_id\n",
        "    WHERE\n",
        "        i.industry IN ('Fintech', 'Internet software & services', 'E-commerce & direct-to-consumer')\n",
        "        AND TO_CHAR(d.date_joined, 'YYYY') IN ('2019', '2020', '2021')\n",
        "    GROUP BY\n",
        "        i.industry, TO_CHAR(d.date_joined, 'YYYY')\n",
        ")\n",
        "SELECT\n",
        "    industry,\n",
        "    year,\n",
        "    num_unicorns,\n",
        "    average_valuation_billions\n",
        "FROM\n",
        "    RankedIndustries\n",
        "WHERE\n",
        "    rank = 1\n",
        "ORDER BY\n",
        "    year DESC;\n",
        "\n"
      ],
      "metadata": {
        "customType": "sql",
        "dataFrameVariableName": "df3",
        "sqlCellMode": "dataFrame",
        "sqlSource": {
          "integrationId": "89e17161-a224-4a8a-846b-0adc0fe7a4b1",
          "type": "integration"
        },
        "executionCancelledAt": null,
        "executionTime": 916,
        "lastExecutedAt": 1718601674008,
        "lastExecutedByKernel": "8be766e1-7f49-48bc-9f74-45a016115f02",
        "lastScheduledRunId": null,
        "lastSuccessfullyExecutedCode": "WITH RankedIndustries AS (\n    SELECT \n        i.industry, \n        TO_CHAR(d.date_joined, 'YYYY') AS year, \n        COUNT(c.company) AS num_unicorns, \n        ROUND(AVG(f.funding), 2) AS average_valuation_billions,\n        ROW_NUMBER() OVER (PARTITION BY TO_CHAR(d.date_joined, 'YYYY') ORDER BY COUNT(c.company) DESC) AS rank\n    FROM \n        dates AS d\n    INNER JOIN \n        funding AS f ON d.company_id = f.company_id\n    INNER JOIN \n        industries AS i ON d.company_id = i.company_id\n    INNER JOIN \n        companies AS c ON d.company_id = c.company_id\n    WHERE \n        i.industry IN ('Fintech', 'Internet software & services', 'E-commerce & direct-to-consumer')\n        AND TO_CHAR(d.date_joined, 'YYYY') IN ('2019', '2020', '2021')\n    GROUP BY \n        i.industry, TO_CHAR(d.date_joined, 'YYYY')\n)\nSELECT \n    industry, \n    year, \n    num_unicorns, \n    average_valuation_billions\nFROM \n    RankedIndustries\nWHERE \n    rank = 1\nORDER BY \n    year DESC;\n\n",
        "outputsMetadata": {
          "0": {
            "height": 146,
            "type": "dataFrame"
          }
        },
        "id": "7ab00a56-8794-4e5a-8b20-9f4f6b4156bc",
        "outputId": "a8b1650d-b055-44c9-a30c-acca9b424d57"
      },
      "cell_type": "code",
      "id": "7ab00a56-8794-4e5a-8b20-9f4f6b4156bc",
      "outputs": [
        {
          "output_type": "execute_result",
          "data": {
            "application/com.datacamp.data-table.v2+json": {
              "table": {
                "schema": {
                  "fields": [
                    {
                      "name": "index",
                      "type": "integer"
                    },
                    {
                      "name": "industry",
                      "type": "string"
                    },
                    {
                      "name": "year",
                      "type": "integer"
                    },
                    {
                      "name": "num_unicorns",
                      "type": "integer"
                    },
                    {
                      "name": "average_valuation_billions",
                      "type": "number"
                    }
                  ],
                  "primaryKey": [
                    "index"
                  ],
                  "pandas_version": "1.4.0"
                },
                "data": {
                  "index": [
                    0,
                    1,
                    2
                  ],
                  "industry": [
                    "Fintech",
                    "Internet software & services",
                    "Fintech"
                  ],
                  "year": [
                    2021,
                    2020,
                    2019
                  ],
                  "num_unicorns": [
                    138,
                    20,
                    20
                  ],
                  "average_valuation_billions": [
                    386659420.29,
                    433100000,
                    754400000
                  ]
                }
              },
              "total_rows": 3,
              "truncation_type": null
            },
            "text/plain": "                       industry  year  num_unicorns  average_valuation_billions\n0                       Fintech  2021           138                3.866594e+08\n1  Internet software & services  2020            20                4.331000e+08\n2                       Fintech  2019            20                7.544000e+08",
            "text/html": "<div>\n<style scoped>\n    .dataframe tbody tr th:only-of-type {\n        vertical-align: middle;\n    }\n\n    .dataframe tbody tr th {\n        vertical-align: top;\n    }\n\n    .dataframe thead th {\n        text-align: right;\n    }\n</style>\n<table border=\"1\" class=\"dataframe\">\n  <thead>\n    <tr style=\"text-align: right;\">\n      <th></th>\n      <th>industry</th>\n      <th>year</th>\n      <th>num_unicorns</th>\n      <th>average_valuation_billions</th>\n    </tr>\n  </thead>\n  <tbody>\n    <tr>\n      <th>0</th>\n      <td>Fintech</td>\n      <td>2021</td>\n      <td>138</td>\n      <td>3.866594e+08</td>\n    </tr>\n    <tr>\n      <th>1</th>\n      <td>Internet software &amp; services</td>\n      <td>2020</td>\n      <td>20</td>\n      <td>4.331000e+08</td>\n    </tr>\n    <tr>\n      <th>2</th>\n      <td>Fintech</td>\n      <td>2019</td>\n      <td>20</td>\n      <td>7.544000e+08</td>\n    </tr>\n  </tbody>\n</table>\n</div>"
          },
          "metadata": {},
          "execution_count": 12,
          "@datacamp/metadata": {
            "executedQuery": "WITH RankedIndustries AS (\n    SELECT \n        i.industry, \n        TO_CHAR(d.date_joined, 'YYYY') AS year, \n        COUNT(c.company) AS num_unicorns, \n        ROUND(AVG(f.funding), 2) AS average_valuation_billions,\n        ROW_NUMBER() OVER (PARTITION BY TO_CHAR(d.date_joined, 'YYYY') ORDER BY COUNT(c.company) DESC) AS rank\n    FROM \n        dates AS d\n    INNER JOIN \n        funding AS f ON d.company_id = f.company_id\n    INNER JOIN \n        industries AS i ON d.company_id = i.company_id\n    INNER JOIN \n        companies AS c ON d.company_id = c.company_id\n    WHERE \n        i.industry IN ('Fintech', 'Internet software & services', 'E-commerce & direct-to-consumer')\n        AND TO_CHAR(d.date_joined, 'YYYY') IN ('2019', '2020', '2021')\n    GROUP BY \n        i.industry, TO_CHAR(d.date_joined, 'YYYY')\n)\nSELECT \n    industry, \n    year, \n    num_unicorns, \n    average_valuation_billions\nFROM \n    RankedIndustries\nWHERE \n    rank = 1\nORDER BY \n    year DESC;",
            "executedQueryParameters": []
          }
        }
      ],
      "execution_count": null
    }
  ],
  "metadata": {
    "colab": {
      "provenance": [],
      "include_colab_link": true
    },
    "kernelspec": {
      "display_name": "Python 3 (ipykernel)",
      "language": "python",
      "name": "python3"
    },
    "language_info": {
      "codemirror_mode": {
        "name": "ipython",
        "version": 3
      },
      "file_extension": ".py",
      "mimetype": "text/x-python",
      "name": "python",
      "nbconvert_exporter": "python",
      "pygments_lexer": "ipython3",
      "version": "3.8.10"
    }
  },
  "nbformat": 4,
  "nbformat_minor": 5
}