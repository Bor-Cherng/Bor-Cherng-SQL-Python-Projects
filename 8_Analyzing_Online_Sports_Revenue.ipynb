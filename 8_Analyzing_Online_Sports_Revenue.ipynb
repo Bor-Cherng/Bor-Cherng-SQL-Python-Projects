{
  "cells": [
    {
      "cell_type": "markdown",
      "metadata": {
        "id": "view-in-github",
        "colab_type": "text"
      },
      "source": [
        "<a href=\"https://colab.research.google.com/github/Bor-Cherng/Bor-Cherng-SQL-Python-Projects/blob/main/8_Analyzing_Online_Sports_Revenue.ipynb\" target=\"_parent\"><img src=\"https://colab.research.google.com/assets/colab-badge.svg\" alt=\"Open In Colab\"/></a>"
      ]
    },
    {
      "source": [
        "![trainers.jpg](data:image/jpeg;base64,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)\n",
        "\n",
        "Sports clothing and athleisure attire is a huge industry, worth approximately [$193 billion in 2021](https://www.statista.com/statistics/254489/total-revenue-of-the-global-sports-apparel-market/) with a strong growth forecast over the next decade!\n",
        "\n",
        "In this notebook, you will undertake the role of a product analyst for an online sports clothing company. The company is specifically interested in how it can improve revenue. You will dive into product data such as pricing, reviews, descriptions, and ratings, as well as revenue and website traffic, to produce recommendations for its marketing and sales teams.  \n",
        "\n",
        "You've been provided with four datasets to investigate:\n",
        "\n",
        "#  brands.csv\n",
        "\n",
        "| Columns | Description |\n",
        "|---------|-------------|\n",
        "| `product_id` | Unique product identifier |\n",
        "| `brand` | Brand of the product |\n",
        "\n",
        "# finance.csv\n",
        "\n",
        "| Columns | Description |\n",
        "|---------|-------------|\n",
        "| `product_id` | Unique product identifier |\n",
        "| `listing_price` | Original price of the product |\n",
        "| `sale_price` | Discounted price of the product |\n",
        "| `discount` | Discount off the listing price, as a decimal |\n",
        "| `revenue` | Revenue generated by the product |\n",
        "\n",
        "# info.csv\n",
        "\n",
        "| Columns | Description |\n",
        "|---------|-------------|\n",
        "| `product_name` | Name of the product |\n",
        "| `product_id` | Unique product identifier |\n",
        "| `description` | Description of the product |\n",
        "\n",
        "# reviews.csv\n",
        "\n",
        "| Columns | Description |\n",
        "|---------|-------------|\n",
        "| `product_id` | Unique product identifier |\n",
        "| `rating` | Average product rating |\n",
        "| `reviews` | Number of reviews for the product |"
      ],
      "metadata": {
        "id": "60be64d7-347e-4d95-a1ba-dc475c589eec"
      },
      "id": "60be64d7-347e-4d95-a1ba-dc475c589eec",
      "cell_type": "markdown"
    },
    {
      "source": [
        "import pandas as pd\n",
        "\n",
        "brands = pd.read_csv(\"brands.csv\")\n",
        "finance = pd.read_csv(\"finance.csv\")\n",
        "info = pd.read_csv(\"info.csv\")\n",
        "reviews = pd.read_csv(\"reviews.csv\")\n",
        "brands.head()\n",
        "finance.head()\n",
        "info.head()\n",
        "reviews.head()\n",
        "\n",
        "# What is the volume of products and average revenue for Adidas and Nike products based on listing price quartiles?\n",
        "\n",
        "import pandas as pd\n",
        "# Merge brands and finance data on product_id\n",
        "merged_df = pd.merge(brands, finance, on='product_id')\n",
        "merged_df.dropna(inplace=True)\n",
        "\n",
        "# Calculate the quartiles for listing_price\n",
        "quartiles = merged_df['listing_price'].quantile([0.25,0.5,0.75])\n",
        "\n",
        "# Define a function to categorize products based on listing_price quartiles\n",
        "def price_label(price):\n",
        "    if price <= quartiles[0.25]:\n",
        "        return 'Budget'\n",
        "    elif price <= quartiles[0.5]:\n",
        "        return 'Average'\n",
        "    elif price<= quartiles[0.75]:\n",
        "        return 'Expensive'\n",
        "    else:\n",
        "        return 'Elite'\n",
        "\n",
        "# Apply the price_label function to the dataframe\n",
        "merged_df['price_label'] = merged_df['listing_price'].apply(price_label)\n",
        "\n",
        "# Group by brand and price_label to calculate the number of products and mean revenue\n",
        "grouped = merged_df.groupby(['brand','price_label'], as_index=False).agg(\n",
        "num_products =('product_id','size'),\n",
        "mean_revenue =('revenue','mean')\n",
        ")\n",
        "\n",
        "# Round the numeric values to two decimal places\n",
        "grouped['mean_revenue'] = grouped['mean_revenue'].round(2)\n",
        "grouped['num_products'] = grouped['num_products'].round(2)\n",
        "\n",
        "# Filter for Adidas and Nike only\n",
        "adidas_vs_nike = grouped[grouped['brand'].isin(['Adidas','Nike'])]\n",
        "\n",
        "print(adidas_vs_nike)\n",
        "\n",
        "\n",
        "# Do any differences exist between the word count of a product's description and its mean rating?\n",
        "#info.head()\n",
        "import pandas as pd\n",
        "info = pd.read_csv('info.csv')\n",
        "reviews = pd.read_csv('reviews.csv')\n",
        "\n",
        "merged_df1 = pd.merge(info, reviews, on = 'product_id')\n",
        "\n",
        "merged_df1['description_length'] = merged_df1['description'].str.len()\n",
        "\n",
        "lengthes = [0,100,200,300,400,500,600,700]\n",
        "\n",
        "labels = ['100','200','300','400','500','600','700']\n",
        "\n",
        "merged_df1['description_length'] = pd.cut(merged_df1['description_length'], bins= lengthes, labels= labels)\n",
        "\n",
        "description_lengths = merged_df1.groupby('description_length', as_index=False).agg(\n",
        "    mean_rating = ('rating','mean'),\n",
        "    num_reviews = ('reviews','count')\n",
        ").round(2)\n",
        "\n",
        "print(description_lengths)"
      ],
      "metadata": {
        "id": "d0eb4f16-5a99-460d-a5ba-706b7ef0bbe7",
        "executionTime": null,
        "lastSuccessfullyExecutedCode": null,
        "executionCancelledAt": null,
        "lastExecutedAt": null,
        "lastScheduledRunId": null,
        "lastExecutedByKernel": null,
        "outputsMetadata": {
          "0": {
            "height": 374,
            "type": "stream"
          }
        },
        "outputId": "4168fc49-a2f6-42f4-cf31-26822688b3b4"
      },
      "id": "d0eb4f16-5a99-460d-a5ba-706b7ef0bbe7",
      "cell_type": "code",
      "execution_count": null,
      "outputs": [
        {
          "output_type": "stream",
          "name": "stdout",
          "text": "    brand price_label  num_products  mean_revenue\n0  Adidas     Average           655       3035.30\n1  Adidas      Budget           574       2015.68\n2  Adidas       Elite           587       8302.78\n3  Adidas   Expensive           759       4621.56\n4    Nike     Average             8        675.59\n5    Nike      Budget           360       1654.40\n6    Nike       Elite           130       1367.45\n7    Nike   Expensive            47        500.56\n  description_length  mean_rating  num_reviews\n0                100         2.26            7\n1                200         3.19          526\n2                300         3.28         1785\n3                400         3.29          651\n4                500         3.35          118\n5                600         3.12           15\n6                700         3.65           15\n"
        }
      ]
    }
  ],
  "metadata": {
    "colab": {
      "provenance": [],
      "include_colab_link": true
    },
    "kernelspec": {
      "display_name": "Python 3 (ipykernel)",
      "language": "python",
      "name": "python3"
    },
    "language_info": {
      "codemirror_mode": {
        "name": "ipython",
        "version": 3
      },
      "file_extension": ".py",
      "mimetype": "text/x-python",
      "name": "python",
      "nbconvert_exporter": "python",
      "pygments_lexer": "ipython3",
      "version": "3.8.10"
    }
  },
  "nbformat": 4,
  "nbformat_minor": 5
}